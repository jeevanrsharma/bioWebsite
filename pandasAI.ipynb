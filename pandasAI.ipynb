{
  "cells": [
    {
      "cell_type": "markdown",
      "metadata": {
        "id": "view-in-github",
        "colab_type": "text"
      },
      "source": [
        "<a href=\"https://colab.research.google.com/github/jeevanrsharma/bioWebsite/blob/master/pandasAI.ipynb\" target=\"_parent\"><img src=\"https://colab.research.google.com/assets/colab-badge.svg\" alt=\"Open In Colab\"/></a>"
      ]
    },
    {
      "cell_type": "code",
      "source": [
        "!sudo apt update"
      ],
      "metadata": {
        "colab": {
          "base_uri": "https://localhost:8080/"
        },
        "id": "2-kwHsy08L-7",
        "outputId": "9bc8032b-3ef0-4c31-dc7d-a6c8e2aadb92",
        "collapsed": true
      },
      "execution_count": 23,
      "outputs": [
        {
          "output_type": "stream",
          "name": "stdout",
          "text": [
            "\u001b[33m\r0% [Working]\u001b[0m\r            \rHit:1 https://developer.download.nvidia.com/compute/cuda/repos/ubuntu2204/x86_64  InRelease\n",
            "Hit:2 https://cloud.r-project.org/bin/linux/ubuntu jammy-cran40/ InRelease\n",
            "Hit:3 http://security.ubuntu.com/ubuntu jammy-security InRelease\n",
            "Hit:4 http://archive.ubuntu.com/ubuntu jammy InRelease\n",
            "Hit:5 http://archive.ubuntu.com/ubuntu jammy-updates InRelease\n",
            "Hit:6 http://archive.ubuntu.com/ubuntu jammy-backports InRelease\n",
            "Hit:7 https://ppa.launchpadcontent.net/deadsnakes/ppa/ubuntu jammy InRelease\n",
            "Hit:8 https://ppa.launchpadcontent.net/graphics-drivers/ppa/ubuntu jammy InRelease\n",
            "Hit:9 https://r2u.stat.illinois.edu/ubuntu jammy InRelease\n",
            "Hit:10 https://ppa.launchpadcontent.net/ubuntugis/ppa/ubuntu jammy InRelease\n",
            "Reading package lists... Done\n",
            "Building dependency tree... Done\n",
            "Reading state information... Done\n",
            "50 packages can be upgraded. Run 'apt list --upgradable' to see them.\n",
            "\u001b[1;33mW: \u001b[0mSkipping acquire of configured file 'main/source/Sources' as repository 'https://r2u.stat.illinois.edu/ubuntu jammy InRelease' does not seem to provide it (sources.list entry misspelt?)\u001b[0m\n"
          ]
        }
      ]
    },
    {
      "cell_type": "code",
      "source": [
        "!sudo apt install -y pciutils"
      ],
      "metadata": {
        "colab": {
          "base_uri": "https://localhost:8080/"
        },
        "id": "cJoQ1_FN8OuN",
        "outputId": "f168b6b2-80c0-44d3-954c-382357403700",
        "collapsed": true
      },
      "execution_count": 24,
      "outputs": [
        {
          "output_type": "stream",
          "name": "stdout",
          "text": [
            "Reading package lists... Done\n",
            "Building dependency tree... Done\n",
            "Reading state information... Done\n",
            "pciutils is already the newest version (1:3.7.0-6).\n",
            "0 upgraded, 0 newly installed, 0 to remove and 50 not upgraded.\n"
          ]
        }
      ]
    },
    {
      "cell_type": "code",
      "source": [
        "!curl -fsSL https://ollama.com/install.sh | sh"
      ],
      "metadata": {
        "colab": {
          "base_uri": "https://localhost:8080/"
        },
        "id": "dtG0NThl8k0o",
        "outputId": "6b0c72f4-f7f6-499c-e1aa-3036bc1b9896",
        "collapsed": true
      },
      "execution_count": null,
      "outputs": [
        {
          "output_type": "stream",
          "name": "stdout",
          "text": [
            ">>> Cleaning up old version at /usr/local/lib/ollama\n",
            ">>> Installing ollama to /usr/local\n",
            ">>> Downloading Linux amd64 bundle\n",
            "###############################                                                                33.5%"
          ]
        }
      ]
    },
    {
      "cell_type": "code",
      "source": [
        "!pip install pandas langchain langchain-ollama\n",
        "!pip install -U langchain-ollama\n",
        "!pip install langchain-ollama\n",
        "!pip install langchain_community"
      ],
      "metadata": {
        "id": "Z7K6z4yLUmpL"
      },
      "execution_count": null,
      "outputs": []
    },
    {
      "cell_type": "code",
      "source": [
        "!pip install -U langchain-ollamaimport threading\n",
        "import subprocess\n",
        "import time\n",
        "\n",
        "def run_ollama_serve():\n",
        "  subprocess.Popen([\"ollama\", \"serve\"])\n",
        "\n",
        "thread = threading.Thread(target=run_ollama_serve)\n",
        "thread.start()\n",
        "time.sleep(5)"
      ],
      "metadata": {
        "id": "Jh5CBAFxBYAC",
        "collapsed": true
      },
      "execution_count": null,
      "outputs": []
    },
    {
      "cell_type": "code",
      "source": [
        "!ollama pull llama3.2"
      ],
      "metadata": {
        "id": "o2ghppmRDFny",
        "collapsed": true
      },
      "execution_count": null,
      "outputs": []
    },
    {
      "cell_type": "code",
      "source": [
        "!ollama list"
      ],
      "metadata": {
        "collapsed": true,
        "id": "HiOz9w0LahUB"
      },
      "execution_count": null,
      "outputs": []
    },
    {
      "cell_type": "code",
      "source": [
        "import pandas as pd\n",
        "import matplotlib.pyplot as plt\n",
        "from langchain_ollama import ChatOllama\n",
        "from langchain.prompts import ChatPromptTemplate\n",
        "from langchain.chains import LLMChain\n",
        "\n",
        "# Sample DataFrame\n",
        "sales_data = pd.DataFrame({\n",
        "    \"Transaction Date\": [\n",
        "        \"2023-01-05\", \"2023-02-15\", \"2023-03-20\", \"2023-04-10\", \"2023-05-22\",\n",
        "        \"2023-06-30\", \"2023-07-14\", \"2023-08-18\", \"2023-09-05\", \"2023-10-11\",\n",
        "        \"2024-01-12\", \"2024-02-25\", \"2024-03-19\", \"2024-04-28\", \"2024-05-15\",\n",
        "        \"2024-06-10\", \"2024-07-07\", \"2024-08-20\", \"2024-09-22\", \"2024-10-29\"\n",
        "    ],\n",
        "    \"Transaction Amount\": [\n",
        "        10000, 25000, 5000, 7500, 150000,\n",
        "        12000, 21000, 6000, 175000, 9200,\n",
        "        13000, 27000, 8000, 160000, 9600,\n",
        "        14000, 23000, 7000, 165000, 9100\n",
        "    ],\n",
        "    \"Branch\": [\n",
        "        \"Mumbai\", \"Delhi\", \"Bangalore\", \"Chennai\", \"Hyderabad\",\n",
        "        \"Pune\", \"Kolkata\", \"Ahmedabad\", \"Jaipur\", \"Lucknow\",\n",
        "        \"Mumbai\", \"Delhi\", \"Bangalore\", \"Chennai\", \"Hyderabad\",\n",
        "        \"Pune\", \"Kolkata\", \"Ahmedabad\", \"Jaipur\", \"Lucknow\"\n",
        "    ]\n",
        "})\n",
        "\n",
        "# Visualization: Total Transaction Amount by Branch\n",
        "plt.figure(figsize=(10, 6))\n",
        "sales_data.groupby(\"Branch\")[\"Transaction Amount\"].sum().plot(kind=\"bar\", color=\"skyblue\", title=\"Total Transaction Amount by Branch\")\n",
        "plt.xlabel(\"Branch\", fontsize=12)\n",
        "plt.ylabel(\"Total Transaction Amount\", fontsize=12)\n",
        "plt.xticks(rotation=45)\n",
        "plt.grid(axis=\"y\", linestyle=\"--\", alpha=0.7)\n",
        "plt.show()\n",
        "\n",
        "# Initialize a model (using Llama via LangChain)\n",
        "llama_model = ChatOllama(model=\"llama3.2:latest\", temperature=0.7)\n",
        "\n",
        "# Create the prompt template\n",
        "template = \"\"\"You are a data analyst with expertise in analyzing sales data.\n",
        "\n",
        "Here is the raw sales data:\n",
        "{data}\n",
        "\n",
        "Question: {question}\n",
        "\n",
        "Answer concisely and provide insights.\"\"\"\n",
        "prompt = ChatPromptTemplate.from_template(template)\n",
        "\n",
        "# Set up the chain\n",
        "chain = LLMChain(llm=llama_model, prompt=prompt)\n",
        "\n",
        "# Query the model\n",
        "query = \"Which branch had the lowest total transaction amount? and how can we improve on this\"\n",
        "formatted_query = chain.run(data=sales_data.to_string(index=False), question=query)\n",
        "\n",
        "# Display the result\n",
        "from IPython.display import Markdown\n",
        "display(Markdown(formatted_query))\n"
      ],
      "metadata": {
        "id": "9quBP56zDvpt"
      },
      "execution_count": null,
      "outputs": []
    }
  ],
  "metadata": {
    "colab": {
      "provenance": [],
      "gpuType": "T4",
      "include_colab_link": true
    },
    "kernelspec": {
      "display_name": "Python 3",
      "name": "python3"
    },
    "accelerator": "GPU"
  },
  "nbformat": 4,
  "nbformat_minor": 0
}